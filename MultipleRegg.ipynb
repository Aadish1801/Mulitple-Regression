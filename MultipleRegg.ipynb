{
  "nbformat": 4,
  "nbformat_minor": 0,
  "metadata": {
    "colab": {
      "provenance": []
    },
    "kernelspec": {
      "name": "python3",
      "display_name": "Python 3"
    },
    "language_info": {
      "name": "python"
    }
  },
  "cells": [
    {
      "cell_type": "code",
      "execution_count": null,
      "metadata": {
        "id": "690GbMZ4Imez"
      },
      "outputs": [],
      "source": [
        "import numpy as np\n",
        "import pandas as pd\n",
        "import matplotlib.pyplot as plt\n",
        "from numpy.linalg import inv"
      ]
    },
    {
      "cell_type": "code",
      "source": [
        "from sklearn.model_selection import train_test_split\n",
        "from sklearn.linear_model import LinearRegression"
      ],
      "metadata": {
        "id": "SKhF2bXEJiEH"
      },
      "execution_count": null,
      "outputs": []
    },
    {
      "cell_type": "code",
      "source": [
        "from sklearn.datasets import load_diabetes\n",
        "x,y = load_diabetes(return_X_y= True)"
      ],
      "metadata": {
        "id": "-Gwbr1YpS-qb"
      },
      "execution_count": null,
      "outputs": []
    },
    {
      "cell_type": "code",
      "source": [
        "x_train, x_test, y_train, y_test = train_test_split(x,y)"
      ],
      "metadata": {
        "id": "n5jZpROoS4Iy"
      },
      "execution_count": null,
      "outputs": []
    },
    {
      "cell_type": "code",
      "source": [
        "class MultipleRegg:\n",
        "  def __init__(self):\n",
        "    self.intercept= 0\n",
        "    self.coeff= 0\n",
        "  def fit(self, x_train, y_train):\n",
        "    x_train= np.insert(x_train, 0,1,axis=1)\n",
        "    a= inv(np.dot(x_train.T, x_train))\n",
        "    b= np.dot(x_train.T, y_train)\n",
        "    beta= a.dot(b)\n",
        "    #print(beta.shape)\n",
        "    self.intercept= beta[0]\n",
        "    self.coeff= beta[1:]\n",
        "    #print(self.coeff.shape)\n",
        "\n",
        "\n",
        "  def predict(self, x_test):\n",
        "    ##x_test= np.insert(x_test, 0 ,1, axis=1)\n",
        "    y_pred= np.dot(x_test, self.coeff) + self.intercept\n",
        "    return y_pred\n",
        "    #print(x_test.shape)"
      ],
      "metadata": {
        "id": "wawk2gi6Jrer"
      },
      "execution_count": null,
      "outputs": []
    },
    {
      "cell_type": "code",
      "source": [
        "model = MultipleRegg()"
      ],
      "metadata": {
        "id": "HDcuKqK8TpCM"
      },
      "execution_count": null,
      "outputs": []
    },
    {
      "cell_type": "code",
      "source": [
        "model.fit(x_train, y_train)"
      ],
      "metadata": {
        "id": "gRckIvp4TwiD"
      },
      "execution_count": null,
      "outputs": []
    },
    {
      "cell_type": "code",
      "source": [
        "model.predict(x_test)"
      ],
      "metadata": {
        "colab": {
          "base_uri": "https://localhost:8080/"
        },
        "id": "Z0GY5Esb-5Nh",
        "outputId": "977dc5ab-ecd6-45f3-8477-d7c9296eb67d"
      },
      "execution_count": null,
      "outputs": [
        {
          "output_type": "execute_result",
          "data": {
            "text/plain": [
              "array([192.41311399, 163.87620584, 189.49093497, 202.35520696,\n",
              "       147.11781668, 204.12787333,  97.74309194, 145.9532068 ,\n",
              "       215.07157381, 104.87888336,  70.90667097, 107.6851459 ,\n",
              "       155.85658636, 132.40683659, 169.53200372, 118.07533801,\n",
              "       148.41843448, 214.52212177,  92.75113671,  73.52238582,\n",
              "        46.68958033,  88.32791156, 146.73183103,  40.33219278,\n",
              "       193.1691268 , 185.10538832, 180.29266187,  95.46231536,\n",
              "        56.351874  ,  89.65399592, 154.45629538, 105.90261867,\n",
              "       200.50061462, 235.71323569, 183.58049033, 141.78154078,\n",
              "       225.91820897,  95.96477641, 107.99930227, 121.76890427,\n",
              "       233.88143422, 178.06372574,  75.64594391,  95.74012461,\n",
              "       299.52589977, 203.70515615,  82.5346309 , 168.60610614,\n",
              "       160.7576298 , 157.58799581, 102.33222043, 224.54208865,\n",
              "       125.10392049, 125.75081124, 127.45312298, 119.07264506,\n",
              "       171.03544207, 208.00509001, 167.44028056,  74.60210901,\n",
              "       130.37102952, 195.84281936,  61.67289199, 181.63490731,\n",
              "       227.46305654, 138.76967981, 181.75297679, 213.26315232,\n",
              "       148.96610604, 259.61038703, 156.41632646, 154.45185797,\n",
              "       150.70063141, 265.82518168, 234.4714504 , 109.66013376,\n",
              "       125.57669853, 254.20589838, 198.11596264, 191.57304273,\n",
              "       245.5403713 , 115.82572827, 107.04549343,  77.3503613 ,\n",
              "       203.52904345,  94.75728806,  50.43518771, 212.33760133,\n",
              "       196.93935516, 137.77103387, 147.92714655, 155.22679093,\n",
              "       258.8581205 , 190.25008706, 219.48405432, 110.55214198,\n",
              "       174.02815847,  80.47508829, 218.34989881, 155.34736285,\n",
              "        80.90611657, 132.35252809, 251.08279289,  67.35464523,\n",
              "       171.62748119, 262.39706516, 230.75136579,  97.57809446,\n",
              "       154.45590738, 182.44950656, 217.24684575])"
            ]
          },
          "metadata": {},
          "execution_count": 33
        }
      ]
    },
    {
      "cell_type": "code",
      "source": [
        "model.intercept"
      ],
      "metadata": {
        "colab": {
          "base_uri": "https://localhost:8080/"
        },
        "id": "WOIEVhlI-9UI",
        "outputId": "96a00916-4ac9-4c9b-cbb2-a3573e77349f"
      },
      "execution_count": null,
      "outputs": [
        {
          "output_type": "execute_result",
          "data": {
            "text/plain": [
              "152.38771643511743"
            ]
          },
          "metadata": {},
          "execution_count": 34
        }
      ]
    },
    {
      "cell_type": "code",
      "source": [
        "model.coeff"
      ],
      "metadata": {
        "colab": {
          "base_uri": "https://localhost:8080/"
        },
        "id": "2p1Zdt9LBf0C",
        "outputId": "59947a48-6f3d-46bf-f74b-c1bacea7051d"
      },
      "execution_count": null,
      "outputs": [
        {
          "output_type": "execute_result",
          "data": {
            "text/plain": [
              "array([   8.90849198, -207.48889609,  583.20921819,  329.35886706,\n",
              "       -673.85103541,  340.58771061,   58.67664129,  136.53072846,\n",
              "        724.06509974,   18.65537934])"
            ]
          },
          "metadata": {},
          "execution_count": 35
        }
      ]
    },
    {
      "cell_type": "code",
      "source": [
        "lr= LinearRegression()"
      ],
      "metadata": {
        "id": "Wmxlhv-aBiGy"
      },
      "execution_count": null,
      "outputs": []
    },
    {
      "cell_type": "code",
      "source": [
        "lr.fit(x_train, y_train)"
      ],
      "metadata": {
        "colab": {
          "base_uri": "https://localhost:8080/",
          "height": 74
        },
        "id": "ZIs8UJ3QB1jW",
        "outputId": "18cd2e24-dcdb-4f1a-d161-3e57638e1d64"
      },
      "execution_count": null,
      "outputs": [
        {
          "output_type": "execute_result",
          "data": {
            "text/plain": [
              "LinearRegression()"
            ],
            "text/html": [
              "<style>#sk-container-id-1 {color: black;background-color: white;}#sk-container-id-1 pre{padding: 0;}#sk-container-id-1 div.sk-toggleable {background-color: white;}#sk-container-id-1 label.sk-toggleable__label {cursor: pointer;display: block;width: 100%;margin-bottom: 0;padding: 0.3em;box-sizing: border-box;text-align: center;}#sk-container-id-1 label.sk-toggleable__label-arrow:before {content: \"▸\";float: left;margin-right: 0.25em;color: #696969;}#sk-container-id-1 label.sk-toggleable__label-arrow:hover:before {color: black;}#sk-container-id-1 div.sk-estimator:hover label.sk-toggleable__label-arrow:before {color: black;}#sk-container-id-1 div.sk-toggleable__content {max-height: 0;max-width: 0;overflow: hidden;text-align: left;background-color: #f0f8ff;}#sk-container-id-1 div.sk-toggleable__content pre {margin: 0.2em;color: black;border-radius: 0.25em;background-color: #f0f8ff;}#sk-container-id-1 input.sk-toggleable__control:checked~div.sk-toggleable__content {max-height: 200px;max-width: 100%;overflow: auto;}#sk-container-id-1 input.sk-toggleable__control:checked~label.sk-toggleable__label-arrow:before {content: \"▾\";}#sk-container-id-1 div.sk-estimator input.sk-toggleable__control:checked~label.sk-toggleable__label {background-color: #d4ebff;}#sk-container-id-1 div.sk-label input.sk-toggleable__control:checked~label.sk-toggleable__label {background-color: #d4ebff;}#sk-container-id-1 input.sk-hidden--visually {border: 0;clip: rect(1px 1px 1px 1px);clip: rect(1px, 1px, 1px, 1px);height: 1px;margin: -1px;overflow: hidden;padding: 0;position: absolute;width: 1px;}#sk-container-id-1 div.sk-estimator {font-family: monospace;background-color: #f0f8ff;border: 1px dotted black;border-radius: 0.25em;box-sizing: border-box;margin-bottom: 0.5em;}#sk-container-id-1 div.sk-estimator:hover {background-color: #d4ebff;}#sk-container-id-1 div.sk-parallel-item::after {content: \"\";width: 100%;border-bottom: 1px solid gray;flex-grow: 1;}#sk-container-id-1 div.sk-label:hover label.sk-toggleable__label {background-color: #d4ebff;}#sk-container-id-1 div.sk-serial::before {content: \"\";position: absolute;border-left: 1px solid gray;box-sizing: border-box;top: 0;bottom: 0;left: 50%;z-index: 0;}#sk-container-id-1 div.sk-serial {display: flex;flex-direction: column;align-items: center;background-color: white;padding-right: 0.2em;padding-left: 0.2em;position: relative;}#sk-container-id-1 div.sk-item {position: relative;z-index: 1;}#sk-container-id-1 div.sk-parallel {display: flex;align-items: stretch;justify-content: center;background-color: white;position: relative;}#sk-container-id-1 div.sk-item::before, #sk-container-id-1 div.sk-parallel-item::before {content: \"\";position: absolute;border-left: 1px solid gray;box-sizing: border-box;top: 0;bottom: 0;left: 50%;z-index: -1;}#sk-container-id-1 div.sk-parallel-item {display: flex;flex-direction: column;z-index: 1;position: relative;background-color: white;}#sk-container-id-1 div.sk-parallel-item:first-child::after {align-self: flex-end;width: 50%;}#sk-container-id-1 div.sk-parallel-item:last-child::after {align-self: flex-start;width: 50%;}#sk-container-id-1 div.sk-parallel-item:only-child::after {width: 0;}#sk-container-id-1 div.sk-dashed-wrapped {border: 1px dashed gray;margin: 0 0.4em 0.5em 0.4em;box-sizing: border-box;padding-bottom: 0.4em;background-color: white;}#sk-container-id-1 div.sk-label label {font-family: monospace;font-weight: bold;display: inline-block;line-height: 1.2em;}#sk-container-id-1 div.sk-label-container {text-align: center;}#sk-container-id-1 div.sk-container {/* jupyter's `normalize.less` sets `[hidden] { display: none; }` but bootstrap.min.css set `[hidden] { display: none !important; }` so we also need the `!important` here to be able to override the default hidden behavior on the sphinx rendered scikit-learn.org. See: https://github.com/scikit-learn/scikit-learn/issues/21755 */display: inline-block !important;position: relative;}#sk-container-id-1 div.sk-text-repr-fallback {display: none;}</style><div id=\"sk-container-id-1\" class=\"sk-top-container\"><div class=\"sk-text-repr-fallback\"><pre>LinearRegression()</pre><b>In a Jupyter environment, please rerun this cell to show the HTML representation or trust the notebook. <br />On GitHub, the HTML representation is unable to render, please try loading this page with nbviewer.org.</b></div><div class=\"sk-container\" hidden><div class=\"sk-item\"><div class=\"sk-estimator sk-toggleable\"><input class=\"sk-toggleable__control sk-hidden--visually\" id=\"sk-estimator-id-1\" type=\"checkbox\" checked><label for=\"sk-estimator-id-1\" class=\"sk-toggleable__label sk-toggleable__label-arrow\">LinearRegression</label><div class=\"sk-toggleable__content\"><pre>LinearRegression()</pre></div></div></div></div></div>"
            ]
          },
          "metadata": {},
          "execution_count": 38
        }
      ]
    },
    {
      "cell_type": "code",
      "source": [
        "print(lr.intercept_)\n",
        "lr.coef_"
      ],
      "metadata": {
        "colab": {
          "base_uri": "https://localhost:8080/"
        },
        "id": "Lt0_9fATB4Hl",
        "outputId": "6472ab69-7b71-4667-cb28-3dc8f2945b41"
      },
      "execution_count": null,
      "outputs": [
        {
          "output_type": "stream",
          "name": "stdout",
          "text": [
            "152.3877164351174\n"
          ]
        },
        {
          "output_type": "execute_result",
          "data": {
            "text/plain": [
              "array([   8.90849198, -207.48889609,  583.20921819,  329.35886706,\n",
              "       -673.85103541,  340.58771061,   58.67664129,  136.53072846,\n",
              "        724.06509974,   18.65537934])"
            ]
          },
          "metadata": {},
          "execution_count": 41
        }
      ]
    },
    {
      "cell_type": "code",
      "source": [],
      "metadata": {
        "id": "eWudwhrWB-Fr"
      },
      "execution_count": null,
      "outputs": []
    }
  ]
}